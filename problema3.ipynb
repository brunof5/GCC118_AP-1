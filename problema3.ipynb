{
  "nbformat": 4,
  "nbformat_minor": 0,
  "metadata": {
    "colab": {
      "provenance": []
    },
    "kernelspec": {
      "name": "python3",
      "display_name": "Python 3"
    },
    "language_info": {
      "name": "python"
    }
  },
  "cells": [
    {
      "cell_type": "markdown",
      "source": [
        "# GCC118 - Programação Matemática\n",
        "## Universidade Federal de Lavras\n",
        "### Instituto de Ciências Exatas e Tecnológicas\n",
        "#### Profa. Andreza C. Beezão Moreira (DMM/UFLA)\n",
        "#### Prof. Mayron César O. Moreira (DCC/UFLA)\n",
        "#### Aluno: Bruno Crespo Ferreira"
      ],
      "metadata": {
        "id": "pvkJED4fW4IC"
      }
    },
    {
      "cell_type": "markdown",
      "source": [
        "## Problema\n",
        "\n",
        "A cidade de União Paulista enfrenta uma séria carência orçamentária. Em busca de uma solução de longo prazo, a câmara de vereadores da cidade aprova uma melhoria da base da cobrança de impostos que prevê a condenação de uma área habitacional do centro da cidade e sua substituição por um conjunto habitacional moderno.\n",
        "\n",
        "O projeto envolve duas fases:\n",
        "1. demolição das casas que estão aquém do padrão para liberar terreno para o novo projeto;\n",
        "2. construção do novo conjunto urbano. A seguir daremos um resumo da situação.\n",
        "\n",
        "Um total de 300 casas aquém do padrão podem ser demolidas. Cada casa ocupa um lote de 0,25 acres. O custo de demolição de uma casa condenada é de \\$2.000. Os tamanhos de lotes para domicílios (unidades) simples, duplos, triplos e quádruplos são de 0,18; 0,28; 0,4 e 0,5 acres, respectivamente. Ruas, espaços abertos e instalações públicas ocupam 15% da área disponível.\n",
        "\n",
        "No novo conjunto habitacional, as unidades triplas e quádruplas representam no mínimo 25% do total. Unidades simples devem representar no mínimo 20% de todas as unidades, e unidades duplas, no mínimo 10%. O imposto cobrado por unidade para unidades simples, duplas, triplas e quádruplas é de \\$1.000, \\$1.900, \\$2.700 e \\$3.400, respectivamente.\n",
        "\n",
        "O custo de construção por unidade domiciliar simples, dupla, tripla e quádrupla é de \\$50.000, \\$70.000, \\$130.000 e \\$160.000, respectivamente. O financiamento acordado com um banco local será de no máximo \\$15 milhões.\n",
        "\n",
        "### Objetivo\n",
        "\n",
        "Quantas unidades de cada tipo devem ser construídas para maximizar a arrecadação de impostos?"
      ],
      "metadata": {
        "id": "NGdBgMbjXJ0r"
      }
    },
    {
      "cell_type": "markdown",
      "source": [
        "## Instalação da biblioteca PuLP"
      ],
      "metadata": {
        "id": "x_OSnL1HdEOA"
      }
    },
    {
      "cell_type": "code",
      "source": [
        "!pip install pulp\n",
        "import pulp"
      ],
      "metadata": {
        "id": "G5hl3pf6dOXW",
        "colab": {
          "base_uri": "https://localhost:8080/"
        },
        "outputId": "c9c48b2d-45b2-49ed-af6b-939e3ba81bf7"
      },
      "execution_count": 1,
      "outputs": [
        {
          "output_type": "stream",
          "name": "stdout",
          "text": [
            "Collecting pulp\n",
            "  Downloading PuLP-2.9.0-py3-none-any.whl.metadata (5.4 kB)\n",
            "Downloading PuLP-2.9.0-py3-none-any.whl (17.7 MB)\n",
            "\u001b[2K   \u001b[90m━━━━━━━━━━━━━━━━━━━━━━━━━━━━━━━━━━━━━━━━\u001b[0m \u001b[32m17.7/17.7 MB\u001b[0m \u001b[31m43.9 MB/s\u001b[0m eta \u001b[36m0:00:00\u001b[0m\n",
            "\u001b[?25hInstalling collected packages: pulp\n",
            "Successfully installed pulp-2.9.0\n"
          ]
        }
      ]
    },
    {
      "cell_type": "markdown",
      "source": [
        "## Parâmetros\n",
        "\n",
        "* $D$: conjunto dos tipos de domicílios.\n",
        "* $I_{i} \\in \\mathbb{R}_+$: imposto cobrado para o domicílio do tipo $i \\in D$.\n",
        "* $lote\\_casa \\in \\mathbb{R}_+$: ocupação (em acres) de uma casa aquém do padrão.\n",
        "* $custo\\_demolicao \\in \\mathbb{R}_+$: custo de demolição de uma casa aquém do padrão.\n",
        "* $total\\_casas \\in \\mathbb{N}$: total de casas aquém do padrão que podem ser demolidas.\n",
        "* $l_{i} \\in \\mathbb{R}_+$: tamanho do lote necessário para construir um domicílio do tipo $i \\in D$.\n",
        "* $c_{i} \\in \\mathbb{R}_+$: custo de construção para uma unidade do domicílio do tipo $i \\in D$.\n",
        "* $financiamento$: valor máximo de financiamento que o projeto possui."
      ],
      "metadata": {
        "id": "TBHA2KzQdRj-"
      }
    },
    {
      "cell_type": "code",
      "source": [
        "domicilios = ['simples', 'duplos', 'triplos', 'quadruplos']\n",
        "\n",
        "imposto_por_domicilio = {\n",
        "    'simples': 1000.0,\n",
        "    'duplos': 1900.0,\n",
        "    'triplos': 2700.0,\n",
        "    'quadruplos': 3400.0\n",
        "}\n",
        "\n",
        "lote_casa = 0.25\n",
        "\n",
        "custo_demolicao = 2000.0\n",
        "\n",
        "total_casas = 300\n",
        "\n",
        "lote_por_domicilio = {\n",
        "    'simples': 0.18,\n",
        "    'duplos': 0.28,\n",
        "    'triplos': 0.40,\n",
        "    'quadruplos': 0.50\n",
        "}\n",
        "\n",
        "custos_construcao = {\n",
        "    'simples': 50000.0,\n",
        "    'duplos': 70000.0,\n",
        "    'triplos': 130000.0,\n",
        "    'quadruplos': 160000.0\n",
        "}\n",
        "\n",
        "financiamento = 15000000.0"
      ],
      "metadata": {
        "id": "kR_-eTHFdR29"
      },
      "execution_count": 2,
      "outputs": []
    },
    {
      "cell_type": "markdown",
      "source": [
        "## Declaração do objeto que representa o modelo matemático\n",
        "\n"
      ],
      "metadata": {
        "id": "sNjqsIhHdYhv"
      }
    },
    {
      "cell_type": "code",
      "source": [
        "modelo = pulp.LpProblem('projeto_novo_habitacional', pulp.LpMaximize)"
      ],
      "metadata": {
        "id": "etY0-GqXdZCp"
      },
      "execution_count": 3,
      "outputs": []
    },
    {
      "cell_type": "markdown",
      "source": [
        "## Variáveis de decisão\n",
        "\n",
        "* $x_{i} \\ge 0$: quantidade de domicílios construidos do tipo $i \\in D$.\n",
        "* $a$: quantidade de casas aquém do padrão que serão demolidas."
      ],
      "metadata": {
        "id": "i1jFWLAodeEx"
      }
    },
    {
      "cell_type": "code",
      "source": [
        "domicilios_vars = pulp.LpVariable.dicts('domicilio', domicilios, cat='Integer', lowBound=0)\n",
        "qtd_casas_demolidas = pulp.LpVariable('a', cat='Integer', lowBound=0)"
      ],
      "metadata": {
        "id": "clkJzQ7EdeU0"
      },
      "execution_count": 4,
      "outputs": []
    },
    {
      "cell_type": "markdown",
      "source": [
        "## Função objetivo\n",
        "\n",
        "* Maximizar a arrecadação de impostos do novo conjunto habitacional: $\\max \\sum_{i \\in D} I_{i}x_{i}$\n"
      ],
      "metadata": {
        "id": "TKMfGd7pdg_5"
      }
    },
    {
      "cell_type": "code",
      "source": [
        "modelo += pulp.lpSum([imposto_por_domicilio[domicilio] * domicilios_vars[domicilio] for domicilio in domicilios])"
      ],
      "metadata": {
        "id": "RuPqrAvYOFAQ"
      },
      "execution_count": 5,
      "outputs": []
    },
    {
      "cell_type": "markdown",
      "source": [
        "## Restrições\n",
        "\n",
        "* A quantidade de casas demolidas aquém do padrão deve respeitar o limite de casas que podem ser demolidas: $a \\le total\\_casas$\n",
        "\n",
        "Observação: o enunciado dá a entender que nem todas as casa aquém do padrão serão demolidas, pois \"Um total de 300 casas aquém do padrão **PODEM** ser demolidas.\""
      ],
      "metadata": {
        "id": "3gyR-URXdkpl"
      }
    },
    {
      "cell_type": "code",
      "source": [
        "modelo += qtd_casas_demolidas <= total_casas"
      ],
      "metadata": {
        "id": "1ngOeV0Fdk_H"
      },
      "execution_count": 6,
      "outputs": []
    },
    {
      "cell_type": "markdown",
      "source": [
        "* Os custos de construção de domicílios e os custos de demolição de casas aquém do padrão não podem ultrapassar o financiamento do projeto: $\\sum_{i \\in D} c_{i}x_{i} + custo\\_demolicao * a \\le financiamento$"
      ],
      "metadata": {
        "id": "1DDlJ_2b0PRJ"
      }
    },
    {
      "cell_type": "code",
      "source": [
        "modelo += pulp.lpSum([custos_construcao[domicilio] * domicilios_vars[domicilio] for domicilio in domicilios]) + \\\n",
        "custo_demolicao * qtd_casas_demolidas <= financiamento"
      ],
      "metadata": {
        "id": "RSLckak-0Pfs"
      },
      "execution_count": 7,
      "outputs": []
    },
    {
      "cell_type": "markdown",
      "source": [
        "* Deve-se respeitar as porcentagens de ocupação da nova área disponível, sendo que $15\\%$ já estão reservadas: $\\sum_{i \\in D} l_{i}x_{i} \\le 0.85(lote\\_casa * a)$"
      ],
      "metadata": {
        "id": "-Bec7YaU1ZWK"
      }
    },
    {
      "cell_type": "code",
      "source": [
        "modelo += pulp.lpSum([lote_por_domicilio[domicilio] * domicilios_vars[domicilio] for domicilio in domicilios]) <= 0.85 * (lote_casa * qtd_casas_demolidas)"
      ],
      "metadata": {
        "id": "1tHa_4MaB2Mc"
      },
      "execution_count": 8,
      "outputs": []
    },
    {
      "cell_type": "markdown",
      "source": [
        "Deve-se respeitar as proporções entre as quantidades de domicílios:\n",
        "\n",
        "* Unidades simples devem representar pelo menos $20\\%$ do total: $x_{1} \\ge 0.20(\\sum_{i \\in D} x_{i})$\n",
        "* Unidades duplas devem representar pelo menos $10\\%$ do total: $x_{2} \\ge 0.10(\\sum_{i \\in D} x_{i})$\n",
        "* Unidades triplas e quádruplas devem representar pelo menos $25\\%$ do total: $x_{3} + x_{4} \\ge 0.25(\\sum_{i \\in D} x_{i})$"
      ],
      "metadata": {
        "id": "6aVW4dc4B15G"
      }
    },
    {
      "cell_type": "code",
      "source": [
        "# domicílio simples\n",
        "modelo += domicilios_vars['simples'] >= 0.20 * pulp.lpSum([domicilios_vars[domicilio] for domicilio in domicilios])\n",
        "\n",
        "# domicílio duplo\n",
        "modelo += domicilios_vars['duplos'] >= 0.10 * pulp.lpSum([domicilios_vars[domicilio] for domicilio in domicilios])\n",
        "\n",
        "# domicílio triplo e quádruplo\n",
        "modelo += domicilios_vars['triplos'] + domicilios_vars['quadruplos'] >= 0.25 * pulp.lpSum([domicilios_vars[domicilio] for domicilio in domicilios])"
      ],
      "metadata": {
        "id": "MS4FWfXr1Zj6"
      },
      "execution_count": 9,
      "outputs": []
    },
    {
      "cell_type": "markdown",
      "source": [
        "## Resolvendo o problema\n",
        "\n",
        "* Mostrando os modelos (debug)"
      ],
      "metadata": {
        "id": "-8MfSqrNdriC"
      }
    },
    {
      "cell_type": "code",
      "source": [
        "modelo"
      ],
      "metadata": {
        "id": "zS-RYVLCU5Ll",
        "colab": {
          "base_uri": "https://localhost:8080/"
        },
        "outputId": "2cb2c188-65c0-45ab-f515-cb660d198dce"
      },
      "execution_count": 10,
      "outputs": [
        {
          "output_type": "execute_result",
          "data": {
            "text/plain": [
              "projeto_novo_habitacional:\n",
              "MAXIMIZE\n",
              "1900.0*domicilio_duplos + 3400.0*domicilio_quadruplos + 1000.0*domicilio_simples + 2700.0*domicilio_triplos + 0.0\n",
              "SUBJECT TO\n",
              "_C1: a <= 300\n",
              "\n",
              "_C2: 2000 a + 70000 domicilio_duplos + 160000 domicilio_quadruplos\n",
              " + 50000 domicilio_simples + 130000 domicilio_triplos <= 15000000\n",
              "\n",
              "_C3: - 0.2125 a + 0.28 domicilio_duplos + 0.5 domicilio_quadruplos\n",
              " + 0.18 domicilio_simples + 0.4 domicilio_triplos <= 0\n",
              "\n",
              "_C4: - 0.2 domicilio_duplos - 0.2 domicilio_quadruplos + 0.8 domicilio_simples\n",
              " - 0.2 domicilio_triplos >= 0\n",
              "\n",
              "_C5: 0.9 domicilio_duplos - 0.1 domicilio_quadruplos - 0.1 domicilio_simples\n",
              " - 0.1 domicilio_triplos >= 0\n",
              "\n",
              "_C6: - 0.25 domicilio_duplos + 0.75 domicilio_quadruplos\n",
              " - 0.25 domicilio_simples + 0.75 domicilio_triplos >= 0\n",
              "\n",
              "VARIABLES\n",
              "0 <= a Integer\n",
              "0 <= domicilio_duplos Integer\n",
              "0 <= domicilio_quadruplos Integer\n",
              "0 <= domicilio_simples Integer\n",
              "0 <= domicilio_triplos Integer"
            ]
          },
          "metadata": {},
          "execution_count": 10
        }
      ]
    },
    {
      "cell_type": "markdown",
      "source": [
        "* Resolvendo o modelo"
      ],
      "metadata": {
        "id": "yOtZSVWuVRio"
      }
    },
    {
      "cell_type": "code",
      "source": [
        "status = modelo.solve()"
      ],
      "metadata": {
        "id": "reQO0xMLdsMs"
      },
      "execution_count": 11,
      "outputs": []
    },
    {
      "cell_type": "markdown",
      "source": [
        "## Imprimindo as soluções do problema"
      ],
      "metadata": {
        "id": "hWrMh26PdxE-"
      }
    },
    {
      "cell_type": "code",
      "source": [
        "print('Status:', pulp.LpStatus[status])\n",
        "print('Função objetivo:', f'É possível arrecadar ${modelo.objective.value()} de impostos no melhor caso.')\n",
        "\n",
        "print('\\n\\t\\tSoluções')\n",
        "print('Quantidade de casa aquém do padrão destruidas:', qtd_casas_demolidas.value())\n",
        "print(f'Total da área do novo conjunto habitacional: {lote_casa * qtd_casas_demolidas.value()} acres.')\n",
        "print(f'Total da área para construção dos domicílios: {0.85 * lote_casa * qtd_casas_demolidas.value()} acres.\\n')\n",
        "\n",
        "for domicilio in domicilios_vars:\n",
        "  print(f'Quantidade de domicilios do tipo \\'{domicilio}\\' construídos:', domicilios_vars[domicilio].value())\n",
        "  print(f'Área: {lote_por_domicilio[domicilio] * domicilios_vars[domicilio].value()} acres.\\n')"
      ],
      "metadata": {
        "id": "MDYl7_WAdxlJ",
        "colab": {
          "base_uri": "https://localhost:8080/"
        },
        "outputId": "d8670075-0c8f-40a6-e7d1-9eccb06ee0d8"
      },
      "execution_count": 12,
      "outputs": [
        {
          "output_type": "stream",
          "name": "stdout",
          "text": [
            "Status: Optimal\n",
            "Função objetivo: É possível arrecadar $343700.0 de impostos no melhor caso.\n",
            "\n",
            "\t\tSoluções\n",
            "Quantidade de casa aquém do padrão destruidas: 245.0\n",
            "Total da área do novo conjunto habitacional: 61.25 acres.\n",
            "Total da área para construção dos domicílios: 52.0625 acres.\n",
            "\n",
            "Quantidade de domicilios do tipo 'simples' construídos: 36.0\n",
            "Área: 6.4799999999999995 acres.\n",
            "\n",
            "Quantidade de domicilios do tipo 'duplos' construídos: 98.0\n",
            "Área: 27.44 acres.\n",
            "\n",
            "Quantidade de domicilios do tipo 'triplos' construídos: 45.0\n",
            "Área: 18.0 acres.\n",
            "\n",
            "Quantidade de domicilios do tipo 'quadruplos' construídos: 0.0\n",
            "Área: 0.0 acres.\n",
            "\n"
          ]
        }
      ]
    }
  ]
}