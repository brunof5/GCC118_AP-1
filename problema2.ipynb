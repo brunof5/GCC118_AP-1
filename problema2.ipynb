{
  "nbformat": 4,
  "nbformat_minor": 0,
  "metadata": {
    "colab": {
      "provenance": []
    },
    "kernelspec": {
      "name": "python3",
      "display_name": "Python 3"
    },
    "language_info": {
      "name": "python"
    }
  },
  "cells": [
    {
      "cell_type": "markdown",
      "source": [
        "# GCC118 - Programação Matemática\n",
        "## Universidade Federal de Lavras\n",
        "### Instituto de Ciências Exatas e Tecnológicas\n",
        "#### Profa. Andreza C. Beezão Moreira (DMM/UFLA)\n",
        "#### Prof. Mayron César O. Moreira (DCC/UFLA)\n",
        "#### Aluno: Bruno Crespo Ferreira"
      ],
      "metadata": {
        "id": "pvkJED4fW4IC"
      }
    },
    {
      "cell_type": "markdown",
      "source": [
        "## Problema\n",
        "\n",
        "Uma certa fábrica de camisetas deseja aproveitar as finais de um campeonato de futebol para vender camisetas dos times envolvidos. Os jogos vão durar quatro semanas. O custo de produção de cada camiseta é de R\\$ 2,00 nas duas primeiras semanas e R\\$ 2,50 nas duas últimas, quando a concorrência demandar por material no mercado. A demanda semanal de camisetas será de 5.000, 10.000, 30.000 e 60.000. A capacidade máxima de produção da empresa é de 25.000 camisetas semanalmente. Na primeira e na segunda semanas, a empresa poderá contratar horas extras de serviço e fabricar mais 10.000 camisetas em cada semana. Nesse caso, o custo de produção sobe para R\\$ 2,80. O excesso de produção pode ser estocado a um custo de R\\$ 0,20 por unidade por semana.\n",
        "\n",
        "### Objetivo\n",
        "\n",
        "Formule um modelo que minimize os custos."
      ],
      "metadata": {
        "id": "NGdBgMbjXJ0r"
      }
    },
    {
      "cell_type": "markdown",
      "source": [
        "## Instalação da biblioteca PuLP"
      ],
      "metadata": {
        "id": "x_OSnL1HdEOA"
      }
    },
    {
      "cell_type": "code",
      "source": [
        "!pip install pulp\n",
        "import pulp"
      ],
      "metadata": {
        "id": "G5hl3pf6dOXW",
        "colab": {
          "base_uri": "https://localhost:8080/"
        },
        "outputId": "ecefbe99-d3ac-4931-c439-91a0f2e51cc0"
      },
      "execution_count": 1,
      "outputs": [
        {
          "output_type": "stream",
          "name": "stdout",
          "text": [
            "Requirement already satisfied: pulp in /usr/local/lib/python3.10/dist-packages (2.9.0)\n"
          ]
        }
      ]
    },
    {
      "cell_type": "markdown",
      "source": [
        "## Parâmetros\n",
        "\n",
        "* $T$: conjunto de períodos.\n",
        "* $c_{t} \\in \\mathbb{R}_+$: custo de produção de cada camisa no período $t \\in T$.\n",
        "* $d_{t} \\in \\mathbb{N}$: demanda de camisetas no período $t \\in T$.\n",
        "* $capacidade\\_maxima \\in \\mathbb{N}$: capacidade máxima de produção de camisetas semanalmente.\n",
        "* $h_{t} \\in \\mathbb{R}_+$: custo de estocagem de cada camisa no período $t \\in \\{1, 2, 3\\}$.\n",
        "\n",
        "Observação: $c_{t}$ possui variações considerando a possibilidade de haver horas extras, representado como $c_{t*}$."
      ],
      "metadata": {
        "id": "TBHA2KzQdRj-"
      }
    },
    {
      "cell_type": "code",
      "source": [
        "periodos = [1, 2, 3, 4]\n",
        "\n",
        "periodos_horas_extras = [1, 2]\n",
        "\n",
        "custos_de_producao = {\n",
        "    1: 2.00,\n",
        "    2: 2.00,\n",
        "    3: 2.50,\n",
        "    4: 2.50\n",
        "}\n",
        "\n",
        "custos_de_producao_horas_extras = {\n",
        "    1: 2.80,\n",
        "    2: 2.80\n",
        "}\n",
        "\n",
        "demanda = {\n",
        "    1: 5000,\n",
        "    2: 10000,\n",
        "    3: 30000,\n",
        "    4: 60000\n",
        "}\n",
        "\n",
        "capacidade_maxima = 25000\n",
        "\n",
        "custo_de_estoque = {\n",
        "    1: 0.20,\n",
        "    2: 0.20,\n",
        "    3: 0.20\n",
        "}"
      ],
      "metadata": {
        "id": "kR_-eTHFdR29"
      },
      "execution_count": 2,
      "outputs": []
    },
    {
      "cell_type": "markdown",
      "source": [
        "## Declaração do objeto que representa o modelo matemático\n",
        "\n",
        "Inicialmente, a ideia era criar dois modelos: um que considera não considera as horas extras e outro que considera.\n",
        "\n",
        "Considerando essa implementação várias partes do código ficaram repetitivas, portanto decidiu-se utilizar uma pulp.LpVariable do tipo Binary para representar as horas extras e outras modificações..."
      ],
      "metadata": {
        "id": "sNjqsIhHdYhv"
      }
    },
    {
      "cell_type": "code",
      "source": [
        "modelo = pulp.LpProblem('fabrica_de_camisetas', pulp.LpMinimize)"
      ],
      "metadata": {
        "id": "etY0-GqXdZCp"
      },
      "execution_count": 3,
      "outputs": []
    },
    {
      "cell_type": "markdown",
      "source": [
        "## Variáveis de decisão\n",
        "\n",
        "* $x_{t} \\ge 0$: quantidade de camisetas produzidas no período $t \\in T$ (sem horas extras).\n",
        "* $y_{t} \\ge 0$: quantidade de camisetas produzidas no período $t \\in \\{1, 2\\}$ (usando horas extras).\n",
        "* $I_{t} \\ge 0$: quantidade de camisetas estocadas no fim do perído $t \\in T$.\n",
        "* $b_{t}$: variável binária indicando se as horas extras foram consideradas no período $t \\in \\{1, 2\\}$"
      ],
      "metadata": {
        "id": "i1jFWLAodeEx"
      }
    },
    {
      "cell_type": "code",
      "source": [
        "producao_normal_vars = pulp.LpVariable.dicts('producao', periodos, cat='Integer', lowBound=0)\n",
        "producao_horas_extras_vars = pulp.LpVariable.dicts('producao_horas_extras', periodos_horas_extras, cat='Integer', lowBound=0)\n",
        "estoque_vars = pulp.LpVariable.dicts('estoque', periodos, cat='Integer', lowBound=0)\n",
        "tem_horas_extras = pulp.LpVariable.dicts('tem_horas_extras', periodos_horas_extras, cat='Binary')"
      ],
      "metadata": {
        "id": "clkJzQ7EdeU0"
      },
      "execution_count": 4,
      "outputs": []
    },
    {
      "cell_type": "markdown",
      "source": [
        "## Função objetivo\n",
        "\n",
        "* Minimização dos custos normais e usando horas extras de produção, além da estocagem de camisetas: $\\min \\sum_{t \\in T} c_{t}x_{t}$ + $\\sum_{t \\in \\{1, 2\\}} c_{t*}y_{t}$ + $\\sum_{t \\in \\{1, 2, 3\\}} h_{t}I_{t}$\n"
      ],
      "metadata": {
        "id": "TKMfGd7pdg_5"
      }
    },
    {
      "cell_type": "code",
      "source": [
        "modelo += pulp.lpSum([custos_de_producao[periodo] * producao_normal_vars[periodo] for periodo in periodos]) + \\\n",
        "pulp.lpSum([custos_de_producao_horas_extras[periodo_hora_extra] * producao_horas_extras_vars[periodo_hora_extra] for periodo_hora_extra in periodos_horas_extras]) + \\\n",
        "pulp.lpSum([custo_de_estoque[periodo] * estoque_vars[periodo] for periodo in [1, 2, 3]])"
      ],
      "metadata": {
        "id": "RuPqrAvYOFAQ"
      },
      "execution_count": 5,
      "outputs": []
    },
    {
      "cell_type": "markdown",
      "source": [
        "## Restrições\n",
        "\n",
        "* Atendimento de demanda e definição de estoque: $x_{t} + y_{t} + I_{t-1} - d_{t} = I_{t}, \\forall t \\in \\{1, 2\\}$ e $x_{t} + I_{t-1} - d_{t} = I_{t}, \\forall t \\in \\{3, 4\\}$."
      ],
      "metadata": {
        "id": "3gyR-URXdkpl"
      }
    },
    {
      "cell_type": "code",
      "source": [
        "for periodo in periodos:\n",
        "  if periodo == 1 or periodo == 2:\n",
        "    if periodo == 1:\n",
        "      modelo += producao_normal_vars[periodo] + producao_horas_extras_vars[periodo] - demanda[periodo] == estoque_vars[periodo]\n",
        "    else:\n",
        "      modelo += producao_normal_vars[periodo] + producao_horas_extras_vars[periodo] + estoque_vars[periodo - 1] - demanda[periodo] == estoque_vars[periodo]\n",
        "  else:\n",
        "    modelo += producao_normal_vars[periodo] + estoque_vars[periodo - 1] - demanda[periodo] == estoque_vars[periodo]"
      ],
      "metadata": {
        "id": "1ngOeV0Fdk_H"
      },
      "execution_count": 6,
      "outputs": []
    },
    {
      "cell_type": "markdown",
      "source": [
        "* Ao contratar horas extras, a fabricação de camisetas é limitada em 10.000 sse $b_{t} = 1$, matematicamente: $y_{t} \\le 10000 * b_{t}, \\forall t \\in \\{1, 2\\}$"
      ],
      "metadata": {
        "id": "7joNo_k9SYgj"
      }
    },
    {
      "cell_type": "code",
      "source": [
        "for periodo_hora_extra in periodos_horas_extras:\n",
        "  modelo += producao_horas_extras_vars[periodo_hora_extra] <= 10000 * tem_horas_extras[periodo_hora_extra]"
      ],
      "metadata": {
        "id": "fuG4SRKQSY3B"
      },
      "execution_count": 7,
      "outputs": []
    },
    {
      "cell_type": "markdown",
      "source": [
        "* A produção sem horas extras deve respeitar a capacidade máxima de produção da fábrica: $x_{t} \\le capacidade\\_maxima, \\forall t \\in T$."
      ],
      "metadata": {
        "id": "9VsyB-1tcKPh"
      }
    },
    {
      "cell_type": "code",
      "source": [
        "for periodo in periodos:\n",
        "  modelo += producao_normal_vars[periodo] <= capacidade_maxima"
      ],
      "metadata": {
        "id": "wE7sutqzcKj0"
      },
      "execution_count": 8,
      "outputs": []
    },
    {
      "cell_type": "markdown",
      "source": [
        "* Não deve haver estoque na última semana: $I_{4}=0$\n",
        "\n",
        "Observação: requisito implícito. Supõe-se que a fábrica não desejaria estocar camisetas após o fim do campeonato."
      ],
      "metadata": {
        "id": "YZBOEM0fU4IG"
      }
    },
    {
      "cell_type": "code",
      "source": [
        "modelo += estoque_vars[4] == 0"
      ],
      "metadata": {
        "id": "p345CALGU4c-"
      },
      "execution_count": 9,
      "outputs": []
    },
    {
      "cell_type": "markdown",
      "source": [
        "## Resolvendo o problema\n",
        "\n",
        "* Mostrando os modelos (debug)"
      ],
      "metadata": {
        "id": "-8MfSqrNdriC"
      }
    },
    {
      "cell_type": "code",
      "source": [
        "modelo"
      ],
      "metadata": {
        "colab": {
          "base_uri": "https://localhost:8080/"
        },
        "id": "zS-RYVLCU5Ll",
        "outputId": "871e4271-769c-4164-f812-a115a010e9d8"
      },
      "execution_count": 10,
      "outputs": [
        {
          "output_type": "execute_result",
          "data": {
            "text/plain": [
              "fabrica_de_camisetas:\n",
              "MINIMIZE\n",
              "0.2*estoque_1 + 0.2*estoque_2 + 0.2*estoque_3 + 2.0*producao_1 + 2.0*producao_2 + 2.5*producao_3 + 2.5*producao_4 + 2.8*producao_horas_extras_1 + 2.8*producao_horas_extras_2 + 0.0\n",
              "SUBJECT TO\n",
              "_C1: - estoque_1 + producao_1 + producao_horas_extras_1 = 5000\n",
              "\n",
              "_C2: estoque_1 - estoque_2 + producao_2 + producao_horas_extras_2 = 10000\n",
              "\n",
              "_C3: estoque_2 - estoque_3 + producao_3 = 30000\n",
              "\n",
              "_C4: estoque_3 - estoque_4 + producao_4 = 60000\n",
              "\n",
              "_C5: producao_horas_extras_1 - 10000 tem_horas_extras_1 <= 0\n",
              "\n",
              "_C6: producao_horas_extras_2 - 10000 tem_horas_extras_2 <= 0\n",
              "\n",
              "_C7: producao_1 <= 25000\n",
              "\n",
              "_C8: producao_2 <= 25000\n",
              "\n",
              "_C9: producao_3 <= 25000\n",
              "\n",
              "_C10: producao_4 <= 25000\n",
              "\n",
              "_C11: estoque_4 = 0\n",
              "\n",
              "VARIABLES\n",
              "0 <= estoque_1 Integer\n",
              "0 <= estoque_2 Integer\n",
              "0 <= estoque_3 Integer\n",
              "0 <= estoque_4 Integer\n",
              "0 <= producao_1 Integer\n",
              "0 <= producao_2 Integer\n",
              "0 <= producao_3 Integer\n",
              "0 <= producao_4 Integer\n",
              "0 <= producao_horas_extras_1 Integer\n",
              "0 <= producao_horas_extras_2 Integer\n",
              "0 <= tem_horas_extras_1 <= 1 Integer\n",
              "0 <= tem_horas_extras_2 <= 1 Integer"
            ]
          },
          "metadata": {},
          "execution_count": 10
        }
      ]
    },
    {
      "cell_type": "markdown",
      "source": [
        "* Resolvendo o modelo"
      ],
      "metadata": {
        "id": "yOtZSVWuVRio"
      }
    },
    {
      "cell_type": "code",
      "source": [
        "status = modelo.solve()"
      ],
      "metadata": {
        "id": "reQO0xMLdsMs"
      },
      "execution_count": 11,
      "outputs": []
    },
    {
      "cell_type": "markdown",
      "source": [
        "## Imprimindo as soluções do problema"
      ],
      "metadata": {
        "id": "hWrMh26PdxE-"
      }
    },
    {
      "cell_type": "code",
      "source": [
        "print('Status:', pulp.LpStatus[status])\n",
        "print('Função objetivo:', f'A fábrica gastaria R${modelo.objective.value()} no melhor caso.')\n",
        "\n",
        "print('\\n\\t\\tSoluções')\n",
        "for producao in producao_normal_vars:\n",
        "  print(f'Quantidade de camisetas produzidas na semana {producao}:', producao_normal_vars[producao].value())\n",
        "print()\n",
        "\n",
        "for producao_hora_extra in producao_horas_extras_vars:\n",
        "  print(f'Quantidade de camisetas produzidas na semana {producao_hora_extra} (contratando horas extras):', producao_horas_extras_vars[producao_hora_extra].value())\n",
        "print()\n",
        "\n",
        "for estoque in estoque_vars:\n",
        "  print(f'Quantidade de camisetas estocadas na semana {estoque}:', estoque_vars[estoque].value())"
      ],
      "metadata": {
        "id": "MDYl7_WAdxlJ",
        "colab": {
          "base_uri": "https://localhost:8080/"
        },
        "outputId": "31d285c4-3b31-48ff-d113-05234817e5ec"
      },
      "execution_count": 12,
      "outputs": [
        {
          "output_type": "stream",
          "name": "stdout",
          "text": [
            "Status: Optimal\n",
            "Função objetivo: A fábrica gastaria R$258000.0 no melhor caso.\n",
            "\n",
            "\t\tSoluções\n",
            "Quantidade de camisetas produzidas na semana 1: 25000.0\n",
            "Quantidade de camisetas produzidas na semana 2: 25000.0\n",
            "Quantidade de camisetas produzidas na semana 3: 25000.0\n",
            "Quantidade de camisetas produzidas na semana 4: 25000.0\n",
            "\n",
            "Quantidade de camisetas produzidas na semana 1 (contratando horas extras): 0.0\n",
            "Quantidade de camisetas produzidas na semana 2 (contratando horas extras): 5000.0\n",
            "\n",
            "Quantidade de camisetas estocadas na semana 1: 20000.0\n",
            "Quantidade de camisetas estocadas na semana 2: 40000.0\n",
            "Quantidade de camisetas estocadas na semana 3: 35000.0\n",
            "Quantidade de camisetas estocadas na semana 4: 0.0\n"
          ]
        }
      ]
    }
  ]
}