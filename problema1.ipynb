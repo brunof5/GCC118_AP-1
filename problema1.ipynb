{
  "nbformat": 4,
  "nbformat_minor": 0,
  "metadata": {
    "colab": {
      "provenance": []
    },
    "kernelspec": {
      "name": "python3",
      "display_name": "Python 3"
    },
    "language_info": {
      "name": "python"
    }
  },
  "cells": [
    {
      "cell_type": "markdown",
      "source": [
        "# GCC118 - Programação Matemática\n",
        "## Universidade Federal de Lavras\n",
        "### Instituto de Ciências Exatas e Tecnológicas\n",
        "#### Profa. Andreza C. Beezão Moreira (DMM/UFLA)\n",
        "#### Prof. Mayron César O. Moreira (DCC/UFLA)\n",
        "#### Aluno: Bruno Crespo Ferreira"
      ],
      "metadata": {
        "id": "pvkJED4fW4IC"
      }
    },
    {
      "cell_type": "markdown",
      "source": [
        "## Problema\n",
        "\n",
        "A Empresa de Viação ao Aérea Brasileira está estudando a compra de três tipos de aviões: Boeing 717 para as pontes aéreas a curta distância, Boeing 737-500 para vôos domésticos e internacionais de média distância e MD-11 para vôos internacionais de longa distância. Em um estudo preliminar, considerou-se que a capacidade máxima dos aviões a serem comprados será sempre preenchida para efeito de planejamento. Os dados de planejamento constam na Tabela abaixo.\n",
        "\n",
        "| Avião              | Custo (milhões de \\$) | Receita Teórica (milhões de \\$) | Pilotos aptos |\n",
        "|--------------------|----------------------------|--------------------------------------|---------------|\n",
        "| **BOEING 717**     | 5.1                        | 330                                  | 30            |\n",
        "| **BOEING 737-500** | 3.6                        | 300                                  | 20            |\n",
        "| **MD-11**          | 6.8                        | 420                                  | 10            |\n",
        "\n",
        "**Tabela:** Informações sobre os aviões.\n",
        "\n",
        "A verba disponível para as compras é de 220 milhões de dólares. Os pilotos de MD-11 podem pilotar todos os aviões da empresa, mas os demais pilotos só podem ser escalados às aeronaves a que foram habilitados. Cada aeronave necessita de dois pilotos para operar. As oficinas de manutenção podem suportar até 40 Boeings 717. Um Boeing 737-500 equivale, em esfoço de manutenção, a $3/4$, e um MD-11 a $5/3$, quando referidos ao Boeing 717.\n",
        "\n",
        "### Objetivo\n",
        "\n",
        "Apresente um modelo que otimize as aquisições de aviões nesta empresa, maximizando as receitas."
      ],
      "metadata": {
        "id": "NGdBgMbjXJ0r"
      }
    },
    {
      "cell_type": "markdown",
      "source": [
        "## Instalação da biblioteca PuLP"
      ],
      "metadata": {
        "id": "x_OSnL1HdEOA"
      }
    },
    {
      "cell_type": "code",
      "source": [
        "!pip install pulp\n",
        "import pulp"
      ],
      "metadata": {
        "id": "G5hl3pf6dOXW",
        "colab": {
          "base_uri": "https://localhost:8080/"
        },
        "outputId": "6983eeec-a22e-4a4c-9c31-37ee06aaf0ed"
      },
      "execution_count": 1,
      "outputs": [
        {
          "output_type": "stream",
          "name": "stdout",
          "text": [
            "Collecting pulp\n",
            "  Downloading PuLP-2.9.0-py3-none-any.whl.metadata (5.4 kB)\n",
            "Downloading PuLP-2.9.0-py3-none-any.whl (17.7 MB)\n",
            "\u001b[2K   \u001b[90m━━━━━━━━━━━━━━━━━━━━━━━━━━━━━━━━━━━━━━━━\u001b[0m \u001b[32m17.7/17.7 MB\u001b[0m \u001b[31m19.2 MB/s\u001b[0m eta \u001b[36m0:00:00\u001b[0m\n",
            "\u001b[?25hInstalling collected packages: pulp\n",
            "Successfully installed pulp-2.9.0\n"
          ]
        }
      ]
    },
    {
      "cell_type": "markdown",
      "source": [
        "## Parâmetros\n",
        "\n",
        "* $A$: conjunto dos tipos de aviões disponíveis para compra.\n",
        "* $c_{i} \\in \\mathbb{R}_+$: custo de compra do avião $i \\in A$.\n",
        "* $r_{i} \\in \\mathbb{R}_+$: receita teórica gerada pela compra do avião $i \\in A$.\n",
        "* $p_{i} \\in \\mathbb{N}$: quantidade de pilotos aptos a pilotar o avião $i \\in A$.\n",
        "* $o_{i} \\in \\mathbb{R}_+$: capacidade de manutenção (em relação ao Boeing 717) do avião $i \\in A$.\n",
        "* $verba \\in \\mathbb{R}_+$: verba total (em milhões) da empresa para a compra dos aviões.\n",
        "* $capacidade\\_manutencao \\in \\mathbb{N}$: capacidade de manutenção total de aviões (em relação ao Boeing 717) que a empresa suporta."
      ],
      "metadata": {
        "id": "TBHA2KzQdRj-"
      }
    },
    {
      "cell_type": "code",
      "source": [
        "A = ['Boeing_717', 'Boeing_737_500', 'MD_11']\n",
        "\n",
        "custos = {\n",
        "    'Boeing_717': 5.1,\n",
        "    'Boeing_737_500': 3.6,\n",
        "    'MD_11': 6.8\n",
        "}\n",
        "\n",
        "receitas_teoricas = {\n",
        "    'Boeing_717': 330.0,\n",
        "    'Boeing_737_500': 300.0,\n",
        "    'MD_11': 420.0\n",
        "}\n",
        "\n",
        "pilotos = {\n",
        "    'Boeing_717': 30,\n",
        "    'Boeing_737_500': 20,\n",
        "    'MD_11': 10\n",
        "}\n",
        "\n",
        "manutencao = {    # Em relação ao Boeing 717\n",
        "    'Boeing_717': 1,\n",
        "    'Boeing_737_500': 3/4,\n",
        "    'MD_11': 5/3\n",
        "}\n",
        "\n",
        "verba = 220.0\n",
        "\n",
        "capacidade_manutencao = 40    # Em relação ao Boeing 717"
      ],
      "metadata": {
        "id": "kR_-eTHFdR29"
      },
      "execution_count": 2,
      "outputs": []
    },
    {
      "cell_type": "markdown",
      "source": [
        "## Declaração do objeto que representa o modelo matemático"
      ],
      "metadata": {
        "id": "sNjqsIhHdYhv"
      }
    },
    {
      "cell_type": "code",
      "source": [
        "modelo = pulp.LpProblem('compra_avioes', pulp.LpMaximize)"
      ],
      "metadata": {
        "id": "etY0-GqXdZCp"
      },
      "execution_count": 3,
      "outputs": []
    },
    {
      "cell_type": "markdown",
      "source": [
        "## Variáveis de decisão\n",
        "\n",
        "* $x_{i} \\ge 0$: quantidade de unidades compradas do avião $i \\in A$"
      ],
      "metadata": {
        "id": "i1jFWLAodeEx"
      }
    },
    {
      "cell_type": "code",
      "source": [
        "avioes_comprados = pulp.LpVariable.dicts('aviao', A, cat='Integer', lowBound=0)"
      ],
      "metadata": {
        "id": "clkJzQ7EdeU0"
      },
      "execution_count": 4,
      "outputs": []
    },
    {
      "cell_type": "markdown",
      "source": [
        "## Função objetivo\n",
        "\n",
        "* Maximizar as receitas das aquisições de aviões da empresa: $\\max \\sum_{i \\in A} r_{i}x_{i}$"
      ],
      "metadata": {
        "id": "TKMfGd7pdg_5"
      }
    },
    {
      "cell_type": "code",
      "source": [
        "modelo += pulp.lpSum([receitas_teoricas[aviao] * avioes_comprados[aviao] for aviao in A])"
      ],
      "metadata": {
        "id": "-Htn2aZ-dgrD"
      },
      "execution_count": 5,
      "outputs": []
    },
    {
      "cell_type": "markdown",
      "source": [
        "## Restrições\n",
        "\n",
        "* O custo de compra dos aviões não pode ultrapassar a verba da empresa: $\\sum_{i \\in A} c_{i}x_{i} \\le verba$"
      ],
      "metadata": {
        "id": "3gyR-URXdkpl"
      }
    },
    {
      "cell_type": "code",
      "source": [
        "modelo += pulp.lpSum([custos[aviao] * avioes_comprados[aviao] for aviao in A]) <= verba"
      ],
      "metadata": {
        "id": "1ngOeV0Fdk_H"
      },
      "execution_count": 6,
      "outputs": []
    },
    {
      "cell_type": "markdown",
      "source": [
        "* Cada avião precisa de 2 pilotos para operação;\n",
        "* O piloto deve ser apto ao avião;\n",
        "* A quantidade de pilotos necessários não pode ultrapassar a quantidade de pilotos aptos do avião.\n",
        "\n",
        "Exceção: os pilotos do avião MD-11 podem pilotar todos os aviões da empresa.\n",
        "\n",
        "**BOEING 717**\n",
        "\n",
        "$2x_{1} \\le p_{1} + p_{3}$\n",
        "\n",
        "**BOEING 737-500**\n",
        "\n",
        "$2x_{2} \\le p_{2} + p_{3}$\n",
        "\n",
        "**MD-11**\n",
        "\n",
        "$2x_{3} \\le p_{3}$"
      ],
      "metadata": {
        "id": "9VsyB-1tcKPh"
      }
    },
    {
      "cell_type": "code",
      "source": [
        "for aviao in avioes_comprados:\n",
        "  if aviao != 'MD_11':\n",
        "    modelo += 2*avioes_comprados[aviao] <= pilotos[aviao] + pilotos['MD_11']\n",
        "  else:\n",
        "    modelo += 2*avioes_comprados[aviao] <= pilotos[aviao]"
      ],
      "metadata": {
        "id": "wE7sutqzcKj0"
      },
      "execution_count": 7,
      "outputs": []
    },
    {
      "cell_type": "markdown",
      "source": [
        "* A quantidade de aviões não pode ultrapassar a capacidade das oficinas de manutenção: $\\sum_{i \\in A} o_{i}x_{i} \\le capacidade\\_manutencao$"
      ],
      "metadata": {
        "id": "oADxFgD-d3hK"
      }
    },
    {
      "cell_type": "code",
      "source": [
        "modelo += pulp.lpSum([manutencao[aviao] * avioes_comprados[aviao] for aviao in A]) <= capacidade_manutencao"
      ],
      "metadata": {
        "id": "cZz8jbwxd3wZ"
      },
      "execution_count": 8,
      "outputs": []
    },
    {
      "cell_type": "markdown",
      "source": [
        "## Resolvendo o problema\n",
        "\n",
        "* Mostrando o modelo (debug)"
      ],
      "metadata": {
        "id": "-8MfSqrNdriC"
      }
    },
    {
      "cell_type": "code",
      "source": [
        "modelo"
      ],
      "metadata": {
        "colab": {
          "base_uri": "https://localhost:8080/"
        },
        "id": "zS-RYVLCU5Ll",
        "outputId": "9da7b502-3295-49ba-885c-6be4b49343df"
      },
      "execution_count": 9,
      "outputs": [
        {
          "output_type": "execute_result",
          "data": {
            "text/plain": [
              "compra_avioes:\n",
              "MAXIMIZE\n",
              "330.0*aviao_Boeing_717 + 300.0*aviao_Boeing_737_500 + 420.0*aviao_MD_11 + 0.0\n",
              "SUBJECT TO\n",
              "_C1: 5.1 aviao_Boeing_717 + 3.6 aviao_Boeing_737_500 + 6.8 aviao_MD_11 <= 220\n",
              "\n",
              "_C2: 2 aviao_Boeing_717 <= 40\n",
              "\n",
              "_C3: 2 aviao_Boeing_737_500 <= 30\n",
              "\n",
              "_C4: 2 aviao_MD_11 <= 10\n",
              "\n",
              "_C5: aviao_Boeing_717 + 0.75 aviao_Boeing_737_500 + 1.66666666667 aviao_MD_11\n",
              " <= 40\n",
              "\n",
              "VARIABLES\n",
              "0 <= aviao_Boeing_717 Integer\n",
              "0 <= aviao_Boeing_737_500 Integer\n",
              "0 <= aviao_MD_11 Integer"
            ]
          },
          "metadata": {},
          "execution_count": 9
        }
      ]
    },
    {
      "cell_type": "markdown",
      "source": [
        "* Resolvendo o modelo"
      ],
      "metadata": {
        "id": "yOtZSVWuVRio"
      }
    },
    {
      "cell_type": "code",
      "source": [
        "status = modelo.solve()"
      ],
      "metadata": {
        "id": "reQO0xMLdsMs"
      },
      "execution_count": 10,
      "outputs": []
    },
    {
      "cell_type": "markdown",
      "source": [
        "## Imprimindo as soluções do problema"
      ],
      "metadata": {
        "id": "hWrMh26PdxE-"
      }
    },
    {
      "cell_type": "code",
      "source": [
        "print('Status:', pulp.LpStatus[status])\n",
        "print('Função objetivo:', f'O total de receita previsto será de {modelo.objective.value()} milhões de dólares no melhor caso.')\n",
        "\n",
        "print('\\n\\t\\tSoluções')\n",
        "for aviao in avioes_comprados:\n",
        "  print(f'Quantidade de {aviao} comprados:', avioes_comprados[aviao].value())\n",
        "  print(f'Receita prevista: {avioes_comprados[aviao].value() * receitas_teoricas[aviao]} milhões de dólares.\\n')"
      ],
      "metadata": {
        "id": "MDYl7_WAdxlJ",
        "colab": {
          "base_uri": "https://localhost:8080/"
        },
        "outputId": "f00bc72c-6d3d-4dc0-c25f-c600288a60d6"
      },
      "execution_count": 11,
      "outputs": [
        {
          "output_type": "stream",
          "name": "stdout",
          "text": [
            "Status: Optimal\n",
            "Função objetivo: O total de receita previsto será de 13200.0 milhões de dólares no melhor caso.\n",
            "\n",
            "\t\tSoluções\n",
            "Quantidade de Boeing_717 comprados: 20.0\n",
            "Receita prevista: 6600.0 milhões de dólares.\n",
            "\n",
            "Quantidade de Boeing_737_500 comprados: 15.0\n",
            "Receita prevista: 4500.0 milhões de dólares.\n",
            "\n",
            "Quantidade de MD_11 comprados: 5.0\n",
            "Receita prevista: 2100.0 milhões de dólares.\n",
            "\n"
          ]
        }
      ]
    }
  ]
}